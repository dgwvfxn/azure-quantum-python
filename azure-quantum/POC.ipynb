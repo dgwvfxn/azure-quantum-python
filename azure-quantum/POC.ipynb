{
  "cells": [
    {
      "cell_type": "code",
      "source": [
        "class ResourceEstimatorResult():\n",
        "    def _repr_html_(self):\n",
        "        return \"\"\"\n",
        "        <html>\n",
        "        <body>\n",
        "        <script src=\"https://d3js.org/d3.v3.min.js\" charset=\"utf-8\"></script>\n",
        "\n",
        "        <div id=\"summary-block\">\n",
        "        <h2>D3.js is Easy to Use</h2>\n",
        "        <p>The script below selects the body element and appends a paragraph with the text \"Hello World!\":</p> \n",
        "\n",
        "        <script>\n",
        "        d3.select(\"#summary-block\").append(\"p\").text(\"Hello World!\");\n",
        "        </script>\n",
        "\n",
        "        </body>\n",
        "        </html>\"\"\"\n"
      ],
      "outputs": [],
      "execution_count": 1,
      "metadata": {
        "jupyter": {
          "source_hidden": false,
          "outputs_hidden": false
        },
        "nteract": {
          "transient": {
            "deleting": false
          }
        }
      }
    },
    {
      "cell_type": "code",
      "source": [
        "x = ResourceEstimatorResult()"
      ],
      "outputs": [],
      "execution_count": 3,
      "metadata": {
        "jupyter": {
          "source_hidden": false,
          "outputs_hidden": false
        },
        "nteract": {
          "transient": {
            "deleting": false
          }
        }
      }
    },
    {
      "cell_type": "code",
      "source": [
        "x"
      ],
      "outputs": [
        {
          "output_type": "execute_result",
          "execution_count": 4,
          "data": {
            "text/plain": "<__main__.ResourceEstimatorResult at 0x7f14d2da4310>",
            "text/html": "\n        <html>\n        <body>\n        <script src=\"https://d3js.org/d3.v3.min.js\" charset=\"utf-8\"></script>\n\n        <div id=\"summary-block\">\n        <h2>D3.js is Easy to Use</h2>\n        <p>The script below selects the body element and appends a paragraph with the text \"Hello World!\":</p> \n\n        <script>\n        d3.select(\"#summary-block\").append(\"p\").text(\"Hello World!\");\n        </script>\n\n        </body>\n        </html>"
          },
          "metadata": {}
        }
      ],
      "execution_count": 4,
      "metadata": {
        "jupyter": {
          "source_hidden": false,
          "outputs_hidden": false
        },
        "nteract": {
          "transient": {
            "deleting": false
          }
        }
      }
    }
  ],
  "metadata": {
    "language_info": {
      "name": "python",
      "version": "3.9.16",
      "mimetype": "text/x-python",
      "codemirror_mode": {
        "name": "ipython",
        "version": 3
      },
      "pygments_lexer": "ipython3",
      "nbconvert_exporter": "python",
      "file_extension": ".py"
    },
    "kernelspec": {
      "name": "python3",
      "language": "python",
      "display_name": "Python 3 (ipykernel)"
    },
    "kernel_info": {
      "name": "python3"
    },
    "nteract": {
      "version": "nteract-front-end@1.0.0"
    }
  },
  "nbformat": 4,
  "nbformat_minor": 0
}